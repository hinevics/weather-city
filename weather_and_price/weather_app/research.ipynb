{
 "cells": [
  {
   "cell_type": "code",
   "execution_count": 93,
   "metadata": {},
   "outputs": [],
   "source": [
    "import re\n",
    "\n",
    "import pandas as pd\n",
    "import numpy as np\n",
    "import seaborn as sns\n",
    "import matplotlib.pyplot as plt\n",
    "\n",
    "from WeatherAPI import Weather\n",
    "from config import PATH_DATASET, PATH_WEATHER_DATA"
   ]
  },
  {
   "cell_type": "code",
   "execution_count": 6,
   "metadata": {},
   "outputs": [
    {
     "data": {
      "text/html": [
       "<div>\n",
       "<style scoped>\n",
       "    .dataframe tbody tr th:only-of-type {\n",
       "        vertical-align: middle;\n",
       "    }\n",
       "\n",
       "    .dataframe tbody tr th {\n",
       "        vertical-align: top;\n",
       "    }\n",
       "\n",
       "    .dataframe thead th {\n",
       "        text-align: right;\n",
       "    }\n",
       "</style>\n",
       "<table border=\"1\" class=\"dataframe\">\n",
       "  <thead>\n",
       "    <tr style=\"text-align: right;\">\n",
       "      <th></th>\n",
       "      <th>Unnamed: 0</th>\n",
       "      <th>datesk</th>\n",
       "      <th>Item Name</th>\n",
       "      <th>Date</th>\n",
       "      <th>price</th>\n",
       "    </tr>\n",
       "  </thead>\n",
       "  <tbody>\n",
       "    <tr>\n",
       "      <th>0</th>\n",
       "      <td>296</td>\n",
       "      <td>20110101</td>\n",
       "      <td>Sponge Gourd</td>\n",
       "      <td>2011-01-01</td>\n",
       "      <td>32</td>\n",
       "    </tr>\n",
       "    <tr>\n",
       "      <th>1</th>\n",
       "      <td>22311</td>\n",
       "      <td>20110309</td>\n",
       "      <td>Berry Southafrica</td>\n",
       "      <td>2011-09-03</td>\n",
       "      <td>0</td>\n",
       "    </tr>\n",
       "    <tr>\n",
       "      <th>2</th>\n",
       "      <td>22312</td>\n",
       "      <td>20110309</td>\n",
       "      <td>Baby corn cleaned</td>\n",
       "      <td>2011-09-03</td>\n",
       "      <td>56</td>\n",
       "    </tr>\n",
       "    <tr>\n",
       "      <th>3</th>\n",
       "      <td>22313</td>\n",
       "      <td>20110309</td>\n",
       "      <td>Baby corn</td>\n",
       "      <td>2011-09-03</td>\n",
       "      <td>14</td>\n",
       "    </tr>\n",
       "    <tr>\n",
       "      <th>4</th>\n",
       "      <td>22314</td>\n",
       "      <td>20110309</td>\n",
       "      <td>Chillies Bajji yagani</td>\n",
       "      <td>2011-09-03</td>\n",
       "      <td>0</td>\n",
       "    </tr>\n",
       "    <tr>\n",
       "      <th>...</th>\n",
       "      <td>...</td>\n",
       "      <td>...</td>\n",
       "      <td>...</td>\n",
       "      <td>...</td>\n",
       "      <td>...</td>\n",
       "    </tr>\n",
       "    <tr>\n",
       "      <th>551943</th>\n",
       "      <td>868958</td>\n",
       "      <td>20180227</td>\n",
       "      <td>Cherry fruit</td>\n",
       "      <td>2018-02-27</td>\n",
       "      <td>150</td>\n",
       "    </tr>\n",
       "    <tr>\n",
       "      <th>551944</th>\n",
       "      <td>868960</td>\n",
       "      <td>20180227</td>\n",
       "      <td>Komark fruit</td>\n",
       "      <td>2018-02-27</td>\n",
       "      <td>28</td>\n",
       "    </tr>\n",
       "    <tr>\n",
       "      <th>551945</th>\n",
       "      <td>868961</td>\n",
       "      <td>20180227</td>\n",
       "      <td>Dry dates</td>\n",
       "      <td>2018-02-27</td>\n",
       "      <td>20</td>\n",
       "    </tr>\n",
       "    <tr>\n",
       "      <th>551946</th>\n",
       "      <td>868962</td>\n",
       "      <td>20180227</td>\n",
       "      <td>Tamarind seedless</td>\n",
       "      <td>2018-02-27</td>\n",
       "      <td>230</td>\n",
       "    </tr>\n",
       "    <tr>\n",
       "      <th>551947</th>\n",
       "      <td>868964</td>\n",
       "      <td>20180227</td>\n",
       "      <td>Tender Coconut(S)</td>\n",
       "      <td>2018-02-27</td>\n",
       "      <td>25</td>\n",
       "    </tr>\n",
       "  </tbody>\n",
       "</table>\n",
       "<p>551948 rows × 5 columns</p>\n",
       "</div>"
      ],
      "text/plain": [
       "        Unnamed: 0    datesk              Item Name        Date price\n",
       "0              296  20110101           Sponge Gourd  2011-01-01    32\n",
       "1            22311  20110309      Berry Southafrica  2011-09-03     0\n",
       "2            22312  20110309      Baby corn cleaned  2011-09-03    56\n",
       "3            22313  20110309              Baby corn  2011-09-03    14\n",
       "4            22314  20110309  Chillies Bajji yagani  2011-09-03     0\n",
       "...            ...       ...                    ...         ...   ...\n",
       "551943      868958  20180227           Cherry fruit  2018-02-27   150\n",
       "551944      868960  20180227           Komark fruit  2018-02-27    28\n",
       "551945      868961  20180227              Dry dates  2018-02-27    20\n",
       "551946      868962  20180227      Tamarind seedless  2018-02-27   230\n",
       "551947      868964  20180227      Tender Coconut(S)  2018-02-27    25\n",
       "\n",
       "[551948 rows x 5 columns]"
      ]
     },
     "execution_count": 6,
     "metadata": {},
     "output_type": "execute_result"
    }
   ],
   "source": [
    "data = pd.read_csv(PATH_DATASET)\n",
    "data"
   ]
  },
  {
   "cell_type": "code",
   "execution_count": 3,
   "metadata": {},
   "outputs": [
    {
     "data": {
      "text/plain": [
       ",datesk,Item Name,Date,price    0\n",
       "dtype: int64"
      ]
     },
     "execution_count": 3,
     "metadata": {},
     "output_type": "execute_result"
    }
   ],
   "source": [
    "data.isna().sum()"
   ]
  },
  {
   "cell_type": "code",
   "execution_count": null,
   "metadata": {},
   "outputs": [],
   "source": [
    "data = data[data['Item Name'].isna() == False]\n",
    "data"
   ]
  },
  {
   "cell_type": "code",
   "execution_count": null,
   "metadata": {},
   "outputs": [
    {
     "data": {
      "text/plain": [
       "datesk            0\n",
       "Item Name         0\n",
       "Date              0\n",
       "price        309178\n",
       "dtype: int64"
      ]
     },
     "execution_count": 47,
     "metadata": {},
     "output_type": "execute_result"
    }
   ],
   "source": [
    "data.isna().sum()"
   ]
  },
  {
   "cell_type": "code",
   "execution_count": null,
   "metadata": {},
   "outputs": [
    {
     "data": {
      "text/html": [
       "<div>\n",
       "<style scoped>\n",
       "    .dataframe tbody tr th:only-of-type {\n",
       "        vertical-align: middle;\n",
       "    }\n",
       "\n",
       "    .dataframe tbody tr th {\n",
       "        vertical-align: top;\n",
       "    }\n",
       "\n",
       "    .dataframe thead th {\n",
       "        text-align: right;\n",
       "    }\n",
       "</style>\n",
       "<table border=\"1\" class=\"dataframe\">\n",
       "  <thead>\n",
       "    <tr style=\"text-align: right;\">\n",
       "      <th></th>\n",
       "      <th>datesk</th>\n",
       "      <th>Item Name</th>\n",
       "      <th>Date</th>\n",
       "      <th>price</th>\n",
       "    </tr>\n",
       "  </thead>\n",
       "  <tbody>\n",
       "    <tr>\n",
       "      <th>296</th>\n",
       "      <td>20110101</td>\n",
       "      <td>Sponge Gourd</td>\n",
       "      <td>01.01.2011</td>\n",
       "      <td>32</td>\n",
       "    </tr>\n",
       "    <tr>\n",
       "      <th>22311</th>\n",
       "      <td>20110309</td>\n",
       "      <td>Berry Southafrica</td>\n",
       "      <td>03.09.2011</td>\n",
       "      <td>0</td>\n",
       "    </tr>\n",
       "    <tr>\n",
       "      <th>22312</th>\n",
       "      <td>20110309</td>\n",
       "      <td>Baby corn cleaned</td>\n",
       "      <td>03.09.2011</td>\n",
       "      <td>56</td>\n",
       "    </tr>\n",
       "    <tr>\n",
       "      <th>22313</th>\n",
       "      <td>20110309</td>\n",
       "      <td>Baby corn</td>\n",
       "      <td>03.09.2011</td>\n",
       "      <td>14</td>\n",
       "    </tr>\n",
       "    <tr>\n",
       "      <th>22314</th>\n",
       "      <td>20110309</td>\n",
       "      <td>Chillies Bajji yagani</td>\n",
       "      <td>03.09.2011</td>\n",
       "      <td>0</td>\n",
       "    </tr>\n",
       "    <tr>\n",
       "      <th>...</th>\n",
       "      <td>...</td>\n",
       "      <td>...</td>\n",
       "      <td>...</td>\n",
       "      <td>...</td>\n",
       "    </tr>\n",
       "    <tr>\n",
       "      <th>868958</th>\n",
       "      <td>20180227</td>\n",
       "      <td>Cherry fruit</td>\n",
       "      <td>27/02/2018</td>\n",
       "      <td>150</td>\n",
       "    </tr>\n",
       "    <tr>\n",
       "      <th>868960</th>\n",
       "      <td>20180227</td>\n",
       "      <td>Komark fruit</td>\n",
       "      <td>27/02/2018</td>\n",
       "      <td>28</td>\n",
       "    </tr>\n",
       "    <tr>\n",
       "      <th>868961</th>\n",
       "      <td>20180227</td>\n",
       "      <td>Dry dates</td>\n",
       "      <td>27/02/2018</td>\n",
       "      <td>20</td>\n",
       "    </tr>\n",
       "    <tr>\n",
       "      <th>868962</th>\n",
       "      <td>20180227</td>\n",
       "      <td>Tamarind seedless</td>\n",
       "      <td>27/02/2018</td>\n",
       "      <td>230</td>\n",
       "    </tr>\n",
       "    <tr>\n",
       "      <th>868964</th>\n",
       "      <td>20180227</td>\n",
       "      <td>Tender Coconut(S)</td>\n",
       "      <td>27/02/2018</td>\n",
       "      <td>25</td>\n",
       "    </tr>\n",
       "  </tbody>\n",
       "</table>\n",
       "<p>551948 rows × 4 columns</p>\n",
       "</div>"
      ],
      "text/plain": [
       "          datesk              Item Name        Date price\n",
       "296     20110101           Sponge Gourd  01.01.2011    32\n",
       "22311   20110309      Berry Southafrica  03.09.2011     0\n",
       "22312   20110309      Baby corn cleaned  03.09.2011    56\n",
       "22313   20110309              Baby corn  03.09.2011    14\n",
       "22314   20110309  Chillies Bajji yagani  03.09.2011     0\n",
       "...          ...                    ...         ...   ...\n",
       "868958  20180227           Cherry fruit  27/02/2018   150\n",
       "868960  20180227           Komark fruit  27/02/2018    28\n",
       "868961  20180227              Dry dates  27/02/2018    20\n",
       "868962  20180227      Tamarind seedless  27/02/2018   230\n",
       "868964  20180227      Tender Coconut(S)  27/02/2018    25\n",
       "\n",
       "[551948 rows x 4 columns]"
      ]
     },
     "execution_count": 48,
     "metadata": {},
     "output_type": "execute_result"
    }
   ],
   "source": [
    "data = data[data['price'].isna() == False]\n",
    "data"
   ]
  },
  {
   "cell_type": "code",
   "execution_count": null,
   "metadata": {},
   "outputs": [
    {
     "data": {
      "text/plain": [
       "datesk       0\n",
       "Item Name    0\n",
       "Date         0\n",
       "price        0\n",
       "dtype: int64"
      ]
     },
     "execution_count": 49,
     "metadata": {},
     "output_type": "execute_result"
    }
   ],
   "source": [
    "data.isna().sum()"
   ]
  },
  {
   "cell_type": "code",
   "execution_count": null,
   "metadata": {},
   "outputs": [
    {
     "name": "stdout",
     "output_type": "stream",
     "text": [
      "01.01.2011\n"
     ]
    }
   ],
   "source": [
    "print(data.Date.iloc[0])"
   ]
  },
  {
   "cell_type": "code",
   "execution_count": null,
   "metadata": {},
   "outputs": [
    {
     "name": "stdout",
     "output_type": "stream",
     "text": [
      "2011-01-01\n"
     ]
    }
   ],
   "source": [
    "d = re.search(pattern=r'(?P<day>\\d{2}).(?P<month>\\d{2}).(?P<year>\\d{4})', string=data.Date.iloc[0])\n",
    "print('{year}-{month}-{day}'.format(year=d.groupdict()['year'], month=d.groupdict()['month'], day=d.groupdict()['day']))"
   ]
  },
  {
   "cell_type": "code",
   "execution_count": null,
   "metadata": {},
   "outputs": [],
   "source": [
    "def map_fuction_date_prcossing(x):\n",
    "    d = re.search(pattern=r'(?P<day>\\d{2}).(?P<month>\\d{2}).(?P<year>\\d{4})', string=x)\n",
    "    return '{year}-{month}-{day}'.format(year=d.groupdict()['year'], month=d.groupdict()['month'], day=d.groupdict()['day'])\n",
    "\n",
    "data.Date = data.Date.map(map_fuction_date_prcossing)"
   ]
  },
  {
   "cell_type": "code",
   "execution_count": null,
   "metadata": {},
   "outputs": [
    {
     "data": {
      "text/plain": [
       "datesk       0\n",
       "Item Name    0\n",
       "Date         0\n",
       "price        0\n",
       "dtype: int64"
      ]
     },
     "execution_count": 55,
     "metadata": {},
     "output_type": "execute_result"
    }
   ],
   "source": [
    "data.isna().sum()"
   ]
  },
  {
   "cell_type": "code",
   "execution_count": null,
   "metadata": {},
   "outputs": [
    {
     "data": {
      "text/html": [
       "<div>\n",
       "<style scoped>\n",
       "    .dataframe tbody tr th:only-of-type {\n",
       "        vertical-align: middle;\n",
       "    }\n",
       "\n",
       "    .dataframe tbody tr th {\n",
       "        vertical-align: top;\n",
       "    }\n",
       "\n",
       "    .dataframe thead th {\n",
       "        text-align: right;\n",
       "    }\n",
       "</style>\n",
       "<table border=\"1\" class=\"dataframe\">\n",
       "  <thead>\n",
       "    <tr style=\"text-align: right;\">\n",
       "      <th></th>\n",
       "      <th>datesk</th>\n",
       "      <th>Item Name</th>\n",
       "      <th>Date</th>\n",
       "      <th>price</th>\n",
       "    </tr>\n",
       "  </thead>\n",
       "  <tbody>\n",
       "    <tr>\n",
       "      <th>296</th>\n",
       "      <td>20110101</td>\n",
       "      <td>Sponge Gourd</td>\n",
       "      <td>2011-01-01</td>\n",
       "      <td>32</td>\n",
       "    </tr>\n",
       "    <tr>\n",
       "      <th>22311</th>\n",
       "      <td>20110309</td>\n",
       "      <td>Berry Southafrica</td>\n",
       "      <td>2011-09-03</td>\n",
       "      <td>0</td>\n",
       "    </tr>\n",
       "    <tr>\n",
       "      <th>22312</th>\n",
       "      <td>20110309</td>\n",
       "      <td>Baby corn cleaned</td>\n",
       "      <td>2011-09-03</td>\n",
       "      <td>56</td>\n",
       "    </tr>\n",
       "    <tr>\n",
       "      <th>22313</th>\n",
       "      <td>20110309</td>\n",
       "      <td>Baby corn</td>\n",
       "      <td>2011-09-03</td>\n",
       "      <td>14</td>\n",
       "    </tr>\n",
       "    <tr>\n",
       "      <th>22314</th>\n",
       "      <td>20110309</td>\n",
       "      <td>Chillies Bajji yagani</td>\n",
       "      <td>2011-09-03</td>\n",
       "      <td>0</td>\n",
       "    </tr>\n",
       "    <tr>\n",
       "      <th>...</th>\n",
       "      <td>...</td>\n",
       "      <td>...</td>\n",
       "      <td>...</td>\n",
       "      <td>...</td>\n",
       "    </tr>\n",
       "    <tr>\n",
       "      <th>868958</th>\n",
       "      <td>20180227</td>\n",
       "      <td>Cherry fruit</td>\n",
       "      <td>2018-02-27</td>\n",
       "      <td>150</td>\n",
       "    </tr>\n",
       "    <tr>\n",
       "      <th>868960</th>\n",
       "      <td>20180227</td>\n",
       "      <td>Komark fruit</td>\n",
       "      <td>2018-02-27</td>\n",
       "      <td>28</td>\n",
       "    </tr>\n",
       "    <tr>\n",
       "      <th>868961</th>\n",
       "      <td>20180227</td>\n",
       "      <td>Dry dates</td>\n",
       "      <td>2018-02-27</td>\n",
       "      <td>20</td>\n",
       "    </tr>\n",
       "    <tr>\n",
       "      <th>868962</th>\n",
       "      <td>20180227</td>\n",
       "      <td>Tamarind seedless</td>\n",
       "      <td>2018-02-27</td>\n",
       "      <td>230</td>\n",
       "    </tr>\n",
       "    <tr>\n",
       "      <th>868964</th>\n",
       "      <td>20180227</td>\n",
       "      <td>Tender Coconut(S)</td>\n",
       "      <td>2018-02-27</td>\n",
       "      <td>25</td>\n",
       "    </tr>\n",
       "  </tbody>\n",
       "</table>\n",
       "<p>551948 rows × 4 columns</p>\n",
       "</div>"
      ],
      "text/plain": [
       "          datesk              Item Name        Date price\n",
       "296     20110101           Sponge Gourd  2011-01-01    32\n",
       "22311   20110309      Berry Southafrica  2011-09-03     0\n",
       "22312   20110309      Baby corn cleaned  2011-09-03    56\n",
       "22313   20110309              Baby corn  2011-09-03    14\n",
       "22314   20110309  Chillies Bajji yagani  2011-09-03     0\n",
       "...          ...                    ...         ...   ...\n",
       "868958  20180227           Cherry fruit  2018-02-27   150\n",
       "868960  20180227           Komark fruit  2018-02-27    28\n",
       "868961  20180227              Dry dates  2018-02-27    20\n",
       "868962  20180227      Tamarind seedless  2018-02-27   230\n",
       "868964  20180227      Tender Coconut(S)  2018-02-27    25\n",
       "\n",
       "[551948 rows x 4 columns]"
      ]
     },
     "execution_count": 56,
     "metadata": {},
     "output_type": "execute_result"
    }
   ],
   "source": [
    "data"
   ]
  },
  {
   "cell_type": "code",
   "execution_count": 36,
   "metadata": {},
   "outputs": [],
   "source": [
    "weather_data = pd.read_csv(PATH_WEATHER_DATA, usecols=[0, 1, 2, 3])"
   ]
  },
  {
   "cell_type": "code",
   "execution_count": 37,
   "metadata": {},
   "outputs": [
    {
     "data": {
      "text/html": [
       "<div>\n",
       "<style scoped>\n",
       "    .dataframe tbody tr th:only-of-type {\n",
       "        vertical-align: middle;\n",
       "    }\n",
       "\n",
       "    .dataframe tbody tr th {\n",
       "        vertical-align: top;\n",
       "    }\n",
       "\n",
       "    .dataframe thead th {\n",
       "        text-align: right;\n",
       "    }\n",
       "</style>\n",
       "<table border=\"1\" class=\"dataframe\">\n",
       "  <thead>\n",
       "    <tr style=\"text-align: right;\">\n",
       "      <th></th>\n",
       "      <th>date</th>\n",
       "      <th>tavg</th>\n",
       "      <th>tmin</th>\n",
       "      <th>tmax</th>\n",
       "    </tr>\n",
       "  </thead>\n",
       "  <tbody>\n",
       "    <tr>\n",
       "      <th>0</th>\n",
       "      <td>2011-01-01</td>\n",
       "      <td>21.9</td>\n",
       "      <td>16.8</td>\n",
       "      <td>29.0</td>\n",
       "    </tr>\n",
       "    <tr>\n",
       "      <th>1</th>\n",
       "      <td>2011-01-02</td>\n",
       "      <td>22.2</td>\n",
       "      <td>18.1</td>\n",
       "      <td>29.0</td>\n",
       "    </tr>\n",
       "    <tr>\n",
       "      <th>2</th>\n",
       "      <td>2011-01-03</td>\n",
       "      <td>21.2</td>\n",
       "      <td>NaN</td>\n",
       "      <td>28.9</td>\n",
       "    </tr>\n",
       "    <tr>\n",
       "      <th>3</th>\n",
       "      <td>2011-01-04</td>\n",
       "      <td>21.1</td>\n",
       "      <td>16.6</td>\n",
       "      <td>27.3</td>\n",
       "    </tr>\n",
       "    <tr>\n",
       "      <th>4</th>\n",
       "      <td>2011-01-05</td>\n",
       "      <td>21.1</td>\n",
       "      <td>17.1</td>\n",
       "      <td>27.3</td>\n",
       "    </tr>\n",
       "    <tr>\n",
       "      <th>...</th>\n",
       "      <td>...</td>\n",
       "      <td>...</td>\n",
       "      <td>...</td>\n",
       "      <td>...</td>\n",
       "    </tr>\n",
       "    <tr>\n",
       "      <th>2583</th>\n",
       "      <td>2018-01-27</td>\n",
       "      <td>21.4</td>\n",
       "      <td>16.0</td>\n",
       "      <td>29.0</td>\n",
       "    </tr>\n",
       "    <tr>\n",
       "      <th>2584</th>\n",
       "      <td>2018-01-28</td>\n",
       "      <td>21.9</td>\n",
       "      <td>14.0</td>\n",
       "      <td>28.2</td>\n",
       "    </tr>\n",
       "    <tr>\n",
       "      <th>2585</th>\n",
       "      <td>2018-01-29</td>\n",
       "      <td>22.0</td>\n",
       "      <td>16.0</td>\n",
       "      <td>29.2</td>\n",
       "    </tr>\n",
       "    <tr>\n",
       "      <th>2586</th>\n",
       "      <td>2018-01-30</td>\n",
       "      <td>21.5</td>\n",
       "      <td>15.7</td>\n",
       "      <td>29.5</td>\n",
       "    </tr>\n",
       "    <tr>\n",
       "      <th>2587</th>\n",
       "      <td>2018-01-31</td>\n",
       "      <td>21.4</td>\n",
       "      <td>15.0</td>\n",
       "      <td>29.2</td>\n",
       "    </tr>\n",
       "  </tbody>\n",
       "</table>\n",
       "<p>2588 rows × 4 columns</p>\n",
       "</div>"
      ],
      "text/plain": [
       "            date  tavg  tmin  tmax\n",
       "0     2011-01-01  21.9  16.8  29.0\n",
       "1     2011-01-02  22.2  18.1  29.0\n",
       "2     2011-01-03  21.2   NaN  28.9\n",
       "3     2011-01-04  21.1  16.6  27.3\n",
       "4     2011-01-05  21.1  17.1  27.3\n",
       "...          ...   ...   ...   ...\n",
       "2583  2018-01-27  21.4  16.0  29.0\n",
       "2584  2018-01-28  21.9  14.0  28.2\n",
       "2585  2018-01-29  22.0  16.0  29.2\n",
       "2586  2018-01-30  21.5  15.7  29.5\n",
       "2587  2018-01-31  21.4  15.0  29.2\n",
       "\n",
       "[2588 rows x 4 columns]"
      ]
     },
     "execution_count": 37,
     "metadata": {},
     "output_type": "execute_result"
    }
   ],
   "source": [
    "weather_data"
   ]
  },
  {
   "cell_type": "code",
   "execution_count": 38,
   "metadata": {},
   "outputs": [
    {
     "data": {
      "text/plain": [
       "date     0\n",
       "tavg     0\n",
       "tmin    77\n",
       "tmax     3\n",
       "dtype: int64"
      ]
     },
     "execution_count": 38,
     "metadata": {},
     "output_type": "execute_result"
    }
   ],
   "source": [
    "weather_data.isna().sum()"
   ]
  },
  {
   "cell_type": "code",
   "execution_count": 39,
   "metadata": {},
   "outputs": [],
   "source": [
    "weather_data = weather_data[weather_data.tmin.isna() == False]"
   ]
  },
  {
   "cell_type": "code",
   "execution_count": 40,
   "metadata": {},
   "outputs": [
    {
     "data": {
      "text/plain": [
       "date    0\n",
       "tavg    0\n",
       "tmin    0\n",
       "tmax    2\n",
       "dtype: int64"
      ]
     },
     "execution_count": 40,
     "metadata": {},
     "output_type": "execute_result"
    }
   ],
   "source": [
    "weather_data.isna().sum()"
   ]
  },
  {
   "cell_type": "code",
   "execution_count": 41,
   "metadata": {},
   "outputs": [],
   "source": [
    "weather_data = weather_data[weather_data.tmax.isna() == False]"
   ]
  },
  {
   "cell_type": "code",
   "execution_count": 42,
   "metadata": {},
   "outputs": [
    {
     "data": {
      "text/html": [
       "<div>\n",
       "<style scoped>\n",
       "    .dataframe tbody tr th:only-of-type {\n",
       "        vertical-align: middle;\n",
       "    }\n",
       "\n",
       "    .dataframe tbody tr th {\n",
       "        vertical-align: top;\n",
       "    }\n",
       "\n",
       "    .dataframe thead th {\n",
       "        text-align: right;\n",
       "    }\n",
       "</style>\n",
       "<table border=\"1\" class=\"dataframe\">\n",
       "  <thead>\n",
       "    <tr style=\"text-align: right;\">\n",
       "      <th></th>\n",
       "      <th>date</th>\n",
       "      <th>tavg</th>\n",
       "      <th>tmin</th>\n",
       "      <th>tmax</th>\n",
       "    </tr>\n",
       "  </thead>\n",
       "  <tbody>\n",
       "    <tr>\n",
       "      <th>0</th>\n",
       "      <td>2011-01-01</td>\n",
       "      <td>21.9</td>\n",
       "      <td>16.8</td>\n",
       "      <td>29.0</td>\n",
       "    </tr>\n",
       "    <tr>\n",
       "      <th>1</th>\n",
       "      <td>2011-01-02</td>\n",
       "      <td>22.2</td>\n",
       "      <td>18.1</td>\n",
       "      <td>29.0</td>\n",
       "    </tr>\n",
       "    <tr>\n",
       "      <th>3</th>\n",
       "      <td>2011-01-04</td>\n",
       "      <td>21.1</td>\n",
       "      <td>16.6</td>\n",
       "      <td>27.3</td>\n",
       "    </tr>\n",
       "    <tr>\n",
       "      <th>4</th>\n",
       "      <td>2011-01-05</td>\n",
       "      <td>21.1</td>\n",
       "      <td>17.1</td>\n",
       "      <td>27.3</td>\n",
       "    </tr>\n",
       "    <tr>\n",
       "      <th>5</th>\n",
       "      <td>2011-01-06</td>\n",
       "      <td>21.4</td>\n",
       "      <td>17.2</td>\n",
       "      <td>27.4</td>\n",
       "    </tr>\n",
       "    <tr>\n",
       "      <th>...</th>\n",
       "      <td>...</td>\n",
       "      <td>...</td>\n",
       "      <td>...</td>\n",
       "      <td>...</td>\n",
       "    </tr>\n",
       "    <tr>\n",
       "      <th>2583</th>\n",
       "      <td>2018-01-27</td>\n",
       "      <td>21.4</td>\n",
       "      <td>16.0</td>\n",
       "      <td>29.0</td>\n",
       "    </tr>\n",
       "    <tr>\n",
       "      <th>2584</th>\n",
       "      <td>2018-01-28</td>\n",
       "      <td>21.9</td>\n",
       "      <td>14.0</td>\n",
       "      <td>28.2</td>\n",
       "    </tr>\n",
       "    <tr>\n",
       "      <th>2585</th>\n",
       "      <td>2018-01-29</td>\n",
       "      <td>22.0</td>\n",
       "      <td>16.0</td>\n",
       "      <td>29.2</td>\n",
       "    </tr>\n",
       "    <tr>\n",
       "      <th>2586</th>\n",
       "      <td>2018-01-30</td>\n",
       "      <td>21.5</td>\n",
       "      <td>15.7</td>\n",
       "      <td>29.5</td>\n",
       "    </tr>\n",
       "    <tr>\n",
       "      <th>2587</th>\n",
       "      <td>2018-01-31</td>\n",
       "      <td>21.4</td>\n",
       "      <td>15.0</td>\n",
       "      <td>29.2</td>\n",
       "    </tr>\n",
       "  </tbody>\n",
       "</table>\n",
       "<p>2509 rows × 4 columns</p>\n",
       "</div>"
      ],
      "text/plain": [
       "            date  tavg  tmin  tmax\n",
       "0     2011-01-01  21.9  16.8  29.0\n",
       "1     2011-01-02  22.2  18.1  29.0\n",
       "3     2011-01-04  21.1  16.6  27.3\n",
       "4     2011-01-05  21.1  17.1  27.3\n",
       "5     2011-01-06  21.4  17.2  27.4\n",
       "...          ...   ...   ...   ...\n",
       "2583  2018-01-27  21.4  16.0  29.0\n",
       "2584  2018-01-28  21.9  14.0  28.2\n",
       "2585  2018-01-29  22.0  16.0  29.2\n",
       "2586  2018-01-30  21.5  15.7  29.5\n",
       "2587  2018-01-31  21.4  15.0  29.2\n",
       "\n",
       "[2509 rows x 4 columns]"
      ]
     },
     "execution_count": 42,
     "metadata": {},
     "output_type": "execute_result"
    }
   ],
   "source": [
    "weather_data"
   ]
  },
  {
   "cell_type": "code",
   "execution_count": 45,
   "metadata": {},
   "outputs": [],
   "source": [
    "data.drop(columns=['Unnamed: 0'], inplace=True)"
   ]
  },
  {
   "cell_type": "code",
   "execution_count": 47,
   "metadata": {},
   "outputs": [],
   "source": [
    "data.drop(columns=['datesk'], inplace=True)"
   ]
  },
  {
   "cell_type": "code",
   "execution_count": 91,
   "metadata": {},
   "outputs": [
    {
     "data": {
      "text/plain": [
       "330"
      ]
     },
     "execution_count": 91,
     "metadata": {},
     "output_type": "execute_result"
    }
   ],
   "source": [
    "data['Item Name'].nunique()"
   ]
  },
  {
   "cell_type": "code",
   "execution_count": 51,
   "metadata": {},
   "outputs": [
    {
     "data": {
      "text/html": [
       "<div>\n",
       "<style scoped>\n",
       "    .dataframe tbody tr th:only-of-type {\n",
       "        vertical-align: middle;\n",
       "    }\n",
       "\n",
       "    .dataframe tbody tr th {\n",
       "        vertical-align: top;\n",
       "    }\n",
       "\n",
       "    .dataframe thead th {\n",
       "        text-align: right;\n",
       "    }\n",
       "</style>\n",
       "<table border=\"1\" class=\"dataframe\">\n",
       "  <thead>\n",
       "    <tr style=\"text-align: right;\">\n",
       "      <th></th>\n",
       "      <th>Item Name</th>\n",
       "      <th>Date</th>\n",
       "      <th>price</th>\n",
       "    </tr>\n",
       "  </thead>\n",
       "  <tbody>\n",
       "    <tr>\n",
       "      <th>0</th>\n",
       "      <td>Sponge Gourd</td>\n",
       "      <td>2011-01-01</td>\n",
       "      <td>32</td>\n",
       "    </tr>\n",
       "    <tr>\n",
       "      <th>43</th>\n",
       "      <td>Sponge Gourd</td>\n",
       "      <td>2011-09-03</td>\n",
       "      <td>32</td>\n",
       "    </tr>\n",
       "    <tr>\n",
       "      <th>620</th>\n",
       "      <td>Sponge Gourd</td>\n",
       "      <td>2011-10-03</td>\n",
       "      <td>32</td>\n",
       "    </tr>\n",
       "    <tr>\n",
       "      <th>948</th>\n",
       "      <td>Sponge Gourd</td>\n",
       "      <td>2011-03-14</td>\n",
       "      <td>32</td>\n",
       "    </tr>\n",
       "    <tr>\n",
       "      <th>1291</th>\n",
       "      <td>Sponge Gourd</td>\n",
       "      <td>2011-03-16</td>\n",
       "      <td>32</td>\n",
       "    </tr>\n",
       "    <tr>\n",
       "      <th>...</th>\n",
       "      <td>...</td>\n",
       "      <td>...</td>\n",
       "      <td>...</td>\n",
       "    </tr>\n",
       "    <tr>\n",
       "      <th>550798</th>\n",
       "      <td>Sponge Gourd</td>\n",
       "      <td>2018-02-22</td>\n",
       "      <td>36</td>\n",
       "    </tr>\n",
       "    <tr>\n",
       "      <th>551080</th>\n",
       "      <td>Sponge Gourd</td>\n",
       "      <td>2018-02-23</td>\n",
       "      <td>36</td>\n",
       "    </tr>\n",
       "    <tr>\n",
       "      <th>551344</th>\n",
       "      <td>Sponge Gourd</td>\n",
       "      <td>2018-02-24</td>\n",
       "      <td>37</td>\n",
       "    </tr>\n",
       "    <tr>\n",
       "      <th>551617</th>\n",
       "      <td>Sponge Gourd</td>\n",
       "      <td>2018-02-26</td>\n",
       "      <td>39</td>\n",
       "    </tr>\n",
       "    <tr>\n",
       "      <th>551899</th>\n",
       "      <td>Sponge Gourd</td>\n",
       "      <td>2018-02-27</td>\n",
       "      <td>39</td>\n",
       "    </tr>\n",
       "  </tbody>\n",
       "</table>\n",
       "<p>2013 rows × 3 columns</p>\n",
       "</div>"
      ],
      "text/plain": [
       "           Item Name        Date price\n",
       "0       Sponge Gourd  2011-01-01    32\n",
       "43      Sponge Gourd  2011-09-03    32\n",
       "620     Sponge Gourd  2011-10-03    32\n",
       "948     Sponge Gourd  2011-03-14    32\n",
       "1291    Sponge Gourd  2011-03-16    32\n",
       "...              ...         ...   ...\n",
       "550798  Sponge Gourd  2018-02-22    36\n",
       "551080  Sponge Gourd  2018-02-23    36\n",
       "551344  Sponge Gourd  2018-02-24    37\n",
       "551617  Sponge Gourd  2018-02-26    39\n",
       "551899  Sponge Gourd  2018-02-27    39\n",
       "\n",
       "[2013 rows x 3 columns]"
      ]
     },
     "execution_count": 51,
     "metadata": {},
     "output_type": "execute_result"
    }
   ],
   "source": [
    "data_sponge_gourd = data[data['Item Name'] == 'Sponge Gourd']"
   ]
  },
  {
   "cell_type": "code",
   "execution_count": 53,
   "metadata": {},
   "outputs": [
    {
     "data": {
      "text/plain": [
       "2017-07-20    1\n",
       "2013-12-28    1\n",
       "2011-09-08    1\n",
       "2016-01-01    1\n",
       "2012-04-13    1\n",
       "             ..\n",
       "2016-11-11    1\n",
       "2015-10-30    1\n",
       "2015-01-22    1\n",
       "2011-10-11    1\n",
       "2014-09-09    1\n",
       "Name: Date, Length: 2013, dtype: int64"
      ]
     },
     "execution_count": 53,
     "metadata": {},
     "output_type": "execute_result"
    }
   ],
   "source": [
    "data_sponge_gourd.Date.value_counts()"
   ]
  },
  {
   "cell_type": "code",
   "execution_count": 54,
   "metadata": {},
   "outputs": [
    {
     "data": {
      "text/plain": [
       "2016-10-28    1\n",
       "2015-11-01    1\n",
       "2013-12-12    1\n",
       "2016-01-15    1\n",
       "2015-03-27    1\n",
       "             ..\n",
       "2017-12-14    1\n",
       "2014-11-04    1\n",
       "2012-08-24    1\n",
       "2012-11-16    1\n",
       "2014-09-09    1\n",
       "Name: date, Length: 2509, dtype: int64"
      ]
     },
     "execution_count": 54,
     "metadata": {},
     "output_type": "execute_result"
    }
   ],
   "source": [
    "weather_data.date.value_counts()"
   ]
  },
  {
   "cell_type": "code",
   "execution_count": 68,
   "metadata": {},
   "outputs": [],
   "source": [
    "r = data_sponge_gourd.join(weather_data.set_index('date'), on='Date')"
   ]
  },
  {
   "cell_type": "code",
   "execution_count": 69,
   "metadata": {},
   "outputs": [],
   "source": [
    "mask = r[r.tavg.isna() == True]\n",
    "r.drop(index=mask.index, inplace=True)"
   ]
  },
  {
   "cell_type": "code",
   "execution_count": 71,
   "metadata": {},
   "outputs": [
    {
     "data": {
      "text/plain": [
       "Item Name    0\n",
       "Date         0\n",
       "price        0\n",
       "tavg         0\n",
       "tmin         0\n",
       "tmax         0\n",
       "dtype: int64"
      ]
     },
     "execution_count": 71,
     "metadata": {},
     "output_type": "execute_result"
    }
   ],
   "source": [
    "r.isna().sum()"
   ]
  },
  {
   "cell_type": "code",
   "execution_count": null,
   "metadata": {},
   "outputs": [],
   "source": [
    "r.price = r.price.map(lambda x: float(x))\n",
    "r.tavg = r.tavg.map(lambda x: float(x))\n",
    "r.tmin = r.tmin.map(lambda x: float(x))\n",
    "r.tmax = r.tmax.map(lambda x: float(x))"
   ]
  },
  {
   "cell_type": "code",
   "execution_count": 72,
   "metadata": {},
   "outputs": [
    {
     "data": {
      "text/html": [
       "<div>\n",
       "<style scoped>\n",
       "    .dataframe tbody tr th:only-of-type {\n",
       "        vertical-align: middle;\n",
       "    }\n",
       "\n",
       "    .dataframe tbody tr th {\n",
       "        vertical-align: top;\n",
       "    }\n",
       "\n",
       "    .dataframe thead th {\n",
       "        text-align: right;\n",
       "    }\n",
       "</style>\n",
       "<table border=\"1\" class=\"dataframe\">\n",
       "  <thead>\n",
       "    <tr style=\"text-align: right;\">\n",
       "      <th></th>\n",
       "      <th>Item Name</th>\n",
       "      <th>Date</th>\n",
       "      <th>price</th>\n",
       "      <th>tavg</th>\n",
       "      <th>tmin</th>\n",
       "      <th>tmax</th>\n",
       "    </tr>\n",
       "  </thead>\n",
       "  <tbody>\n",
       "    <tr>\n",
       "      <th>0</th>\n",
       "      <td>Sponge Gourd</td>\n",
       "      <td>2011-01-01</td>\n",
       "      <td>32</td>\n",
       "      <td>21.9</td>\n",
       "      <td>16.8</td>\n",
       "      <td>29.0</td>\n",
       "    </tr>\n",
       "    <tr>\n",
       "      <th>43</th>\n",
       "      <td>Sponge Gourd</td>\n",
       "      <td>2011-09-03</td>\n",
       "      <td>32</td>\n",
       "      <td>22.6</td>\n",
       "      <td>19.8</td>\n",
       "      <td>27.6</td>\n",
       "    </tr>\n",
       "    <tr>\n",
       "      <th>620</th>\n",
       "      <td>Sponge Gourd</td>\n",
       "      <td>2011-10-03</td>\n",
       "      <td>32</td>\n",
       "      <td>22.9</td>\n",
       "      <td>20.2</td>\n",
       "      <td>29.2</td>\n",
       "    </tr>\n",
       "    <tr>\n",
       "      <th>948</th>\n",
       "      <td>Sponge Gourd</td>\n",
       "      <td>2011-03-14</td>\n",
       "      <td>32</td>\n",
       "      <td>26.0</td>\n",
       "      <td>18.9</td>\n",
       "      <td>33.1</td>\n",
       "    </tr>\n",
       "    <tr>\n",
       "      <th>1291</th>\n",
       "      <td>Sponge Gourd</td>\n",
       "      <td>2011-03-16</td>\n",
       "      <td>32</td>\n",
       "      <td>25.8</td>\n",
       "      <td>19.5</td>\n",
       "      <td>33.2</td>\n",
       "    </tr>\n",
       "    <tr>\n",
       "      <th>...</th>\n",
       "      <td>...</td>\n",
       "      <td>...</td>\n",
       "      <td>...</td>\n",
       "      <td>...</td>\n",
       "      <td>...</td>\n",
       "      <td>...</td>\n",
       "    </tr>\n",
       "    <tr>\n",
       "      <th>544790</th>\n",
       "      <td>Sponge Gourd</td>\n",
       "      <td>2018-01-27</td>\n",
       "      <td>25</td>\n",
       "      <td>21.4</td>\n",
       "      <td>16.0</td>\n",
       "      <td>29.0</td>\n",
       "    </tr>\n",
       "    <tr>\n",
       "      <th>545063</th>\n",
       "      <td>Sponge Gourd</td>\n",
       "      <td>2018-01-29</td>\n",
       "      <td>25</td>\n",
       "      <td>22.0</td>\n",
       "      <td>16.0</td>\n",
       "      <td>29.2</td>\n",
       "    </tr>\n",
       "    <tr>\n",
       "      <th>545349</th>\n",
       "      <td>Sponge Gourd</td>\n",
       "      <td>2018-01-30</td>\n",
       "      <td>26</td>\n",
       "      <td>21.5</td>\n",
       "      <td>15.7</td>\n",
       "      <td>29.5</td>\n",
       "    </tr>\n",
       "    <tr>\n",
       "      <th>545608</th>\n",
       "      <td>Sponge Gourd</td>\n",
       "      <td>2018-01-31</td>\n",
       "      <td>28</td>\n",
       "      <td>21.4</td>\n",
       "      <td>15.0</td>\n",
       "      <td>29.2</td>\n",
       "    </tr>\n",
       "    <tr>\n",
       "      <th>545830</th>\n",
       "      <td>Sponge Gourd</td>\n",
       "      <td>2018-01-02</td>\n",
       "      <td>29</td>\n",
       "      <td>22.1</td>\n",
       "      <td>17.8</td>\n",
       "      <td>28.9</td>\n",
       "    </tr>\n",
       "  </tbody>\n",
       "</table>\n",
       "<p>1922 rows × 6 columns</p>\n",
       "</div>"
      ],
      "text/plain": [
       "           Item Name        Date price  tavg  tmin  tmax\n",
       "0       Sponge Gourd  2011-01-01    32  21.9  16.8  29.0\n",
       "43      Sponge Gourd  2011-09-03    32  22.6  19.8  27.6\n",
       "620     Sponge Gourd  2011-10-03    32  22.9  20.2  29.2\n",
       "948     Sponge Gourd  2011-03-14    32  26.0  18.9  33.1\n",
       "1291    Sponge Gourd  2011-03-16    32  25.8  19.5  33.2\n",
       "...              ...         ...   ...   ...   ...   ...\n",
       "544790  Sponge Gourd  2018-01-27    25  21.4  16.0  29.0\n",
       "545063  Sponge Gourd  2018-01-29    25  22.0  16.0  29.2\n",
       "545349  Sponge Gourd  2018-01-30    26  21.5  15.7  29.5\n",
       "545608  Sponge Gourd  2018-01-31    28  21.4  15.0  29.2\n",
       "545830  Sponge Gourd  2018-01-02    29  22.1  17.8  28.9\n",
       "\n",
       "[1922 rows x 6 columns]"
      ]
     },
     "execution_count": 72,
     "metadata": {},
     "output_type": "execute_result"
    }
   ],
   "source": [
    "r"
   ]
  },
  {
   "cell_type": "code",
   "execution_count": 107,
   "metadata": {},
   "outputs": [
    {
     "data": {
      "text/plain": [
       "[<matplotlib.lines.Line2D at 0x1ca90c0de80>]"
      ]
     },
     "execution_count": 107,
     "metadata": {},
     "output_type": "execute_result"
    },
    {
     "data": {
      "image/png": "[encoded data removed]",
      "text/plain": [
       "<Figure size 1332x756 with 1 Axes>"
      ]
     },
     "metadata": {
      "needs_background": "light"
     },
     "output_type": "display_data"
    }
   ],
   "source": [
    "fig, ax = plt.subplots()\n",
    "fig.set_size_inches(18.5, 10.5, forward=True) \n",
    "# x = Date \\ y = price\n",
    "ax.plot(r['Date'], r['price'].map(lambda x: int(x)).map(np.log))\n",
    "ax.axes.xaxis.set_visible(False)\n",
    "ax.axes.yaxis.set_visible(False)\n",
    "# x = Date \\ y = tavg\n",
    "ax.plot(r['Date'], r['tavg'].map(lambda x: int(x)).map(np.log))"
   ]
  },
  {
   "cell_type": "code",
   "execution_count": 111,
   "metadata": {},
   "outputs": [
    {
     "data": {
      "text/plain": [
       "[<matplotlib.lines.Line2D at 0x1ca94c71d60>]"
      ]
     },
     "execution_count": 111,
     "metadata": {},
     "output_type": "execute_result"
    },
    {
     "data": {
      "image/png": "[encoded data removed]",
      "text/plain": [
       "<Figure size 1332x756 with 1 Axes>"
      ]
     },
     "metadata": {
      "needs_background": "light"
     },
     "output_type": "display_data"
    }
   ],
   "source": [
    "fig, ax = plt.subplots()\n",
    "fig.set_size_inches(18.5, 10.5, forward=True) \n",
    "# x = Date \\ y = price\n",
    "ax.plot(r['Date'][1000:1100], r['price'].map(lambda x: int(x)).map(np.log)[1000:1100])\n",
    "ax.axes.xaxis.set_visible(False)\n",
    "ax.axes.yaxis.set_visible(False)\n",
    "# x = Date \\ y = tavg\n",
    "ax.plot(r['Date'][1000:1100], r['tavg'].map(lambda x: int(x)).map(np.log)[1000:1100])\n"
   ]
  },
  {
   "cell_type": "code",
   "execution_count": 128,
   "metadata": {},
   "outputs": [
    {
     "data": {
      "text/plain": [
       "<matplotlib.collections.PathCollection at 0x1ca970a1dc0>"
      ]
     },
     "execution_count": 128,
     "metadata": {},
     "output_type": "execute_result"
    },
    {
     "data": {
      "image/png": "[encoded data removed]",
      "text/plain": [
       "<Figure size 1332x756 with 1 Axes>"
      ]
     },
     "metadata": {
      "needs_background": "light"
     },
     "output_type": "display_data"
    }
   ],
   "source": [
    "fig, ax = plt.subplots()\n",
    "fig.set_size_inches(18.5, 10.5) \n",
    "# x = Date \\ y = price\n",
    "ax.scatter(y=r['price'], x=r['tavg'])"
   ]
  },
  {
   "cell_type": "code",
   "execution_count": null,
   "metadata": {},
   "outputs": [],
   "source": []
  }
 ],
 "metadata": {
  "interpreter": {
   "hash": "31ff804e05c542abfdab620000e5333bc9afc6a565bbee95afa27485d8eec998"
  },
  "kernelspec": {
   "display_name": "Python 3.8.3 ('base')",
   "language": "python",
   "name": "python3"
  },
  "language_info": {
   "codemirror_mode": {
    "name": "ipython",
    "version": 3
   },
   "file_extension": ".py",
   "mimetype": "text/x-python",
   "name": "python",
   "nbconvert_exporter": "python",
   "pygments_lexer": "ipython3",
   "version": "3.8.3"
  },
  "orig_nbformat": 4
 },
 "nbformat": 4,
 "nbformat_minor": 2
}
